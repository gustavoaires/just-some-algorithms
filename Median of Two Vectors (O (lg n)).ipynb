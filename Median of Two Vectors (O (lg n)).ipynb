{
 "cells": [
  {
   "cell_type": "code",
   "execution_count": 83,
   "metadata": {},
   "outputs": [],
   "source": [
    "def insertion_sort(X, p, r):\n",
    "    i = -1\n",
    "    for j in range(p+1, r+1):\n",
    "        key = X[j]\n",
    "        i = j - 1\n",
    "        while i >= p and X[i] > key:\n",
    "            X[i+1] = X[i]\n",
    "            i = i - 1\n",
    "        X[i+1] = key"
   ]
  },
  {
   "cell_type": "code",
   "execution_count": 84,
   "metadata": {},
   "outputs": [],
   "source": [
    "def median(X, p1, r1, Y, p2, r2):\n",
    "    if r1 - p1 <= 1 and r2 - p2 <= 1:\n",
    "        aux = X[p1:r1+1] + Y[p2:r2+1]\n",
    "        insertion_sort(aux, 0, len(aux)-1)\n",
    "        med = aux[len(aux)//2]\n",
    "        return med\n",
    "    q1 = (p1 + r1) // 2\n",
    "    q2 = (p2 + r2) // 2\n",
    "    med1 = X[q1]\n",
    "    med2 = Y[q2]\n",
    "    if med1 == med2: return med1\n",
    "    if med1 < med2:\n",
    "        return median(X, q1, r1, Y, p2, q2)\n",
    "    else:\n",
    "        return median(X, p1, q1, Y, q2, r2)"
   ]
  },
  {
   "cell_type": "code",
   "execution_count": 90,
   "metadata": {},
   "outputs": [
    {
     "name": "stdout",
     "output_type": "stream",
     "text": [
      "12\n"
     ]
    }
   ],
   "source": [
    "a = [4,8,10,11,15,25]\n",
    "b = [10,12,19,21,22,29]\n",
    "print(median(b, 0, 5, a, 0, 5))"
   ]
  },
  {
   "cell_type": "code",
   "execution_count": null,
   "metadata": {},
   "outputs": [],
   "source": []
  }
 ],
 "metadata": {
  "kernelspec": {
   "display_name": "Python 3",
   "language": "python",
   "name": "python3"
  },
  "language_info": {
   "codemirror_mode": {
    "name": "ipython",
    "version": 3
   },
   "file_extension": ".py",
   "mimetype": "text/x-python",
   "name": "python",
   "nbconvert_exporter": "python",
   "pygments_lexer": "ipython3",
   "version": "3.6.1"
  }
 },
 "nbformat": 4,
 "nbformat_minor": 2
}
