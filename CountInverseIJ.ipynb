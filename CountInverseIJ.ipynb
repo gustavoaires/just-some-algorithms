{
 "cells": [
  {
   "cell_type": "code",
   "execution_count": 243,
   "metadata": {},
   "outputs": [],
   "source": [
    "def merge(A, p, middle, r):\n",
    "    if p == r: return 0\n",
    "    left = A[p:middle+1]\n",
    "    right = A[middle+1:r+1]\n",
    "    left.append(float(\"inf\"))\n",
    "    right.append(float(\"inf\"))\n",
    "    i = j = count = 0\n",
    "\n",
    "    for k in range(p, r + 1):\n",
    "        if left[i] < right[j]:\n",
    "            A[k] = left[i]\n",
    "            i += 1\n",
    "            count += j\n",
    "        else:\n",
    "            A[k] = right[j]\n",
    "            j += 1\n",
    "\n",
    "    return count"
   ]
  },
  {
   "cell_type": "code",
   "execution_count": 244,
   "metadata": {},
   "outputs": [],
   "source": [
    "def merge_sort_counter(A, p, r):\n",
    "    if p < r:\n",
    "        q = (p + r) // 2\n",
    "        count1 = merge_sort_counter(A, p, q)\n",
    "        count2 = merge_sort_counter(A, q + 1, r)\n",
    "        count3 = merge(A, p, q, r)\n",
    "        return count1 + count2 + count3\n",
    "    return 0"
   ]
  },
  {
   "cell_type": "code",
   "execution_count": 245,
   "metadata": {},
   "outputs": [
    {
     "data": {
      "text/plain": [
       "16"
      ]
     },
     "execution_count": 245,
     "metadata": {},
     "output_type": "execute_result"
    }
   ],
   "source": [
    "a = [6,5,3,1,8,7,2,4]\n",
    "merge_sort_counter(a, 0, 7)"
   ]
  },
  {
   "cell_type": "code",
   "execution_count": null,
   "metadata": {},
   "outputs": [],
   "source": []
  }
 ],
 "metadata": {
  "kernelspec": {
   "display_name": "Python 3",
   "language": "python",
   "name": "python3"
  },
  "language_info": {
   "codemirror_mode": {
    "name": "ipython",
    "version": 3
   },
   "file_extension": ".py",
   "mimetype": "text/x-python",
   "name": "python",
   "nbconvert_exporter": "python",
   "pygments_lexer": "ipython3",
   "version": "3.6.1"
  }
 },
 "nbformat": 4,
 "nbformat_minor": 2
}
