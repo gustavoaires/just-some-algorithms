{
 "cells": [
  {
   "cell_type": "code",
   "execution_count": 177,
   "metadata": {},
   "outputs": [],
   "source": [
    "def merge(A, p, middle, r):\n",
    "    if p == r: return 0\n",
    "    left = A[:middle]\n",
    "    right = A[middle:]\n",
    "    left.append(float(\"inf\"))\n",
    "    right.append(float(\"inf\"))\n",
    "    i = j = count = 0\n",
    "\n",
    "    for k in range(p, r + 1):\n",
    "        if left[i] < right[j]:\n",
    "            A[k] = left[i]\n",
    "            i += 1\n",
    "        else:\n",
    "            A[k] = right[j]\n",
    "            j += 1\n",
    "\n",
    "    return count"
   ]
  },
  {
   "cell_type": "code",
   "execution_count": 178,
   "metadata": {},
   "outputs": [],
   "source": [
    "def merge_sort_counter(A, p, r):\n",
    "    if p < r:\n",
    "        q = (p + r) // 2\n",
    "        count1 = merge_sort_counter(A, p, q)\n",
    "        count2 = merge_sort_counter(A, q + 1, r)\n",
    "        count3 = merge(A, p, q, r)\n",
    "        return count1 + count2 + count3\n",
    "    return 0"
   ]
  },
  {
   "cell_type": "code",
   "execution_count": 179,
   "metadata": {},
   "outputs": [
    {
     "name": "stdout",
     "output_type": "stream",
     "text": [
      "[1, 5, 3, 1, 4, 5, 3, 4]\n"
     ]
    }
   ],
   "source": [
    "a = [6,5,3,1,8,7,2,4]\n",
    "merge_sort_counter(a, 0, 7)\n",
    "print(a)"
   ]
  },
  {
   "cell_type": "code",
   "execution_count": null,
   "metadata": {},
   "outputs": [],
   "source": []
  }
 ],
 "metadata": {
  "kernelspec": {
   "display_name": "Python 3",
   "language": "python",
   "name": "python3"
  },
  "language_info": {
   "codemirror_mode": {
    "name": "ipython",
    "version": 3
   },
   "file_extension": ".py",
   "mimetype": "text/x-python",
   "name": "python",
   "nbconvert_exporter": "python",
   "pygments_lexer": "ipython3",
   "version": "3.6.1"
  }
 },
 "nbformat": 4,
 "nbformat_minor": 2
}
