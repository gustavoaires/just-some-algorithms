{
 "cells": [
  {
   "cell_type": "code",
   "execution_count": 83,
   "metadata": {},
   "outputs": [],
   "source": [
    "def max_heapify(a, i, a_size):\n",
    "    left, right, bigger = i * 2, i * 2 + 1, i\n",
    "    if left < a_size and a[left] > a[i]:\n",
    "        bigger = left\n",
    "    if right < a_size and a[right] > a[bigger]:\n",
    "        bigger = right\n",
    "    if bigger != i:\n",
    "        a[i], a[bigger] = a[bigger], a[i]\n",
    "        max_heapify(a, bigger, a_size)"
   ]
  },
  {
   "cell_type": "code",
   "execution_count": 84,
   "metadata": {},
   "outputs": [],
   "source": [
    "def heap_sort(a, a_size):\n",
    "    for i in range(int(a_size / 2), -1, -1):\n",
    "        max_heapify(a, i, a_size)\n",
    "    for i in range(a_size - 1, 0, -1):\n",
    "        a[0], a[i] = a[i], a[0]\n",
    "        max_heapify(a, 0, i - 1)"
   ]
  },
  {
   "cell_type": "code",
   "execution_count": 85,
   "metadata": {},
   "outputs": [
    {
     "data": {
      "text/plain": [
       "[1, 2, 3, 4, 5]"
      ]
     },
     "execution_count": 85,
     "metadata": {},
     "output_type": "execute_result"
    }
   ],
   "source": [
    "a = [1,2,3,4,5]\n",
    "heap_sort(a, len(a))"
   ]
  },
  {
   "cell_type": "code",
   "execution_count": null,
   "metadata": {},
   "outputs": [],
   "source": [
    "a"
   ]
  }
 ],
 "metadata": {
  "kernelspec": {
   "display_name": "Python 3",
   "language": "python",
   "name": "python3"
  },
  "language_info": {
   "codemirror_mode": {
    "name": "ipython",
    "version": 3
   },
   "file_extension": ".py",
   "mimetype": "text/x-python",
   "name": "python",
   "nbconvert_exporter": "python",
   "pygments_lexer": "ipython3",
   "version": "3.6.1"
  }
 },
 "nbformat": 4,
 "nbformat_minor": 2
}
