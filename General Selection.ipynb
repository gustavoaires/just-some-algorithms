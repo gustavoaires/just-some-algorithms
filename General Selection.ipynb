{
 "cells": [
  {
   "cell_type": "code",
   "execution_count": 14,
   "metadata": {},
   "outputs": [],
   "source": [
    "# general_selection returns k-th smaller value from an array of numbers\n",
    "# it's approach is based on quick_sort method\n",
    "# theta(n)\n",
    "import random"
   ]
  },
  {
   "cell_type": "code",
   "execution_count": 15,
   "metadata": {},
   "outputs": [],
   "source": [
    "def partition(A, p, r):\n",
    "    pivo = A[r]\n",
    "    i = p - 1\n",
    "    for j in range(p, r):\n",
    "        if A[j] <= pivo:\n",
    "            i += 1\n",
    "            A[j], A[i] = A[i], A[j]\n",
    "    A[r], A[i+1] = A[i+1], A[r]\n",
    "    return i + 1"
   ]
  },
  {
   "cell_type": "code",
   "execution_count": 16,
   "metadata": {},
   "outputs": [],
   "source": [
    "def random_partition(A, p, r):\n",
    "    i = random.randint(p, r)\n",
    "    A[r], A[i] = A[i], A[r]\n",
    "    return partition(A, p, r)"
   ]
  },
  {
   "cell_type": "code",
   "execution_count": 17,
   "metadata": {},
   "outputs": [],
   "source": [
    "def general_selection(A, p, r, i):\n",
    "    if p == r: return A[p]\n",
    "    q = random_partition(A, p, r)\n",
    "    k = q - p + 1\n",
    "    if i == k:\n",
    "        return A[q]\n",
    "    elif i < k:\n",
    "        return general_selection(A, p, q - 1, i)\n",
    "    else:\n",
    "        return general_selection(A, q + 1, r, i - k)"
   ]
  },
  {
   "cell_type": "code",
   "execution_count": 13,
   "metadata": {},
   "outputs": [
    {
     "data": {
      "text/plain": [
       "60"
      ]
     },
     "execution_count": 13,
     "metadata": {},
     "output_type": "execute_result"
    }
   ],
   "source": [
    "a = [31,14,21,82,60,78,44,27]\n",
    "general_selection(a, 0, 7, 6)"
   ]
  },
  {
   "cell_type": "code",
   "execution_count": null,
   "metadata": {},
   "outputs": [],
   "source": []
  }
 ],
 "metadata": {
  "kernelspec": {
   "display_name": "Python 3",
   "language": "python",
   "name": "python3"
  },
  "language_info": {
   "codemirror_mode": {
    "name": "ipython",
    "version": 3
   },
   "file_extension": ".py",
   "mimetype": "text/x-python",
   "name": "python",
   "nbconvert_exporter": "python",
   "pygments_lexer": "ipython3",
   "version": "3.6.1"
  }
 },
 "nbformat": 4,
 "nbformat_minor": 2
}
