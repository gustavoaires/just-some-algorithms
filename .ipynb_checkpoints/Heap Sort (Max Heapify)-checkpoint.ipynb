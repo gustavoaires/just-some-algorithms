{
 "cells": [
  {
   "cell_type": "code",
   "execution_count": 5,
   "metadata": {},
   "outputs": [],
   "source": [
    "def max_heapify(arr, i, arr_size):\n",
    "    left, right, bigger = i * 2, i * 2 + 1, i\n",
    "    if left < arr_size and arr[left] > arr[i]:\n",
    "        bigger = left\n",
    "    if right < arr_size and arr[right] > arr[bigger]:\n",
    "        bigger = right\n",
    "    if bigger != i:\n",
    "        arr[i], arr[bigger] = arr[bigger], arr[i]\n",
    "        max_heapify(arr, bigger, arr_size)"
   ]
  },
  {
   "cell_type": "code",
   "execution_count": 6,
   "metadata": {},
   "outputs": [],
   "source": [
    "def heap_sort(arr, arr_size):\n",
    "    for i in range(int(arr_size / 2), -1, -1):\n",
    "        max_heapify(arr, i, arr_size)\n",
    "    for i in range(arr_size - 1, 0, -1):\n",
    "        arr[0], arr[i] = arr[i], arr[0]\n",
    "        max_heapify(arr, 0, i)"
   ]
  },
  {
   "cell_type": "code",
   "execution_count": 7,
   "metadata": {},
   "outputs": [],
   "source": [
    "a = [5,4,3,2,1]\n",
    "heap_sort(a, len(a))"
   ]
  },
  {
   "cell_type": "code",
   "execution_count": 8,
   "metadata": {},
   "outputs": [
    {
     "data": {
      "text/plain": [
       "[1, 2, 3, 4, 5]"
      ]
     },
     "execution_count": 8,
     "metadata": {},
     "output_type": "execute_result"
    }
   ],
   "source": [
    "a"
   ]
  }
 ],
 "metadata": {
  "kernelspec": {
   "display_name": "Python 3",
   "language": "python",
   "name": "python3"
  },
  "language_info": {
   "codemirror_mode": {
    "name": "ipython",
    "version": 3
   },
   "file_extension": ".py",
   "mimetype": "text/x-python",
   "name": "python",
   "nbconvert_exporter": "python",
   "pygments_lexer": "ipython3",
   "version": "3.6.1"
  }
 },
 "nbformat": 4,
 "nbformat_minor": 2
}
