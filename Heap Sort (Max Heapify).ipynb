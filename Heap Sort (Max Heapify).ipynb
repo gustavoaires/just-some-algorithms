{
 "cells": [
  {
   "cell_type": "code",
   "execution_count": 146,
   "metadata": {},
   "outputs": [],
   "source": [
    "def max_heapify(a, i, a_size):\n",
    "    left, right, bigger = i * 2, i * 2 + 1, i\n",
    "    if left < a_size and a[left] > a[i]:\n",
    "        bigger = left\n",
    "    if right < a_size and a[right] > a[bigger]:\n",
    "        bigger = right\n",
    "    if bigger != i:\n",
    "        a[i], a[bigger] = a[bigger], a[i]\n",
    "        max_heapify(a, bigger, a_size)"
   ]
  },
  {
   "cell_type": "code",
   "execution_count": 147,
   "metadata": {},
   "outputs": [],
   "source": [
    "def heap_sort(a, a_size):\n",
    "    for i in range(int(a_size / 2), -1, -1):\n",
    "        max_heapify(a, i, a_size)\n",
    "    for i in range(a_size - 1, 0, -1):\n",
    "        a[0], a[i] = a[i], a[0]\n",
    "        max_heapify(a, 0, i)"
   ]
  },
  {
   "cell_type": "code",
   "execution_count": 148,
   "metadata": {},
   "outputs": [],
   "source": [
    "a = [13,21,15,23,11,19]\n",
    "heap_sort(a, len(a))"
   ]
  },
  {
   "cell_type": "code",
   "execution_count": 149,
   "metadata": {},
   "outputs": [
    {
     "data": {
      "text/plain": [
       "[11, 13, 15, 19, 21, 23]"
      ]
     },
     "execution_count": 149,
     "metadata": {},
     "output_type": "execute_result"
    }
   ],
   "source": [
    "a"
   ]
  }
 ],
 "metadata": {
  "kernelspec": {
   "display_name": "Python 3",
   "language": "python",
   "name": "python3"
  },
  "language_info": {
   "codemirror_mode": {
    "name": "ipython",
    "version": 3
   },
   "file_extension": ".py",
   "mimetype": "text/x-python",
   "name": "python",
   "nbconvert_exporter": "python",
   "pygments_lexer": "ipython3",
   "version": "3.6.1"
  }
 },
 "nbformat": 4,
 "nbformat_minor": 2
}
