{
 "cells": [
  {
   "cell_type": "code",
   "execution_count": 38,
   "metadata": {},
   "outputs": [],
   "source": [
    "def merge(A, p, middle, r):\n",
    "    A1 = A[:middle]\n",
    "    A2 = A[middle:]\n",
    "    A1.append(float(\"inf\"))\n",
    "    A2.append(float(\"inf\"))\n",
    "    i = j = count = 0\n",
    "    for k in range(p, r + 1):\n",
    "        if A1[i] <= A2[j]:\n",
    "            A[k] = A1[i]\n",
    "            i = i + 1\n",
    "            count += j + 1\n",
    "        else:\n",
    "            A[k] = A2[j]\n",
    "            j = j + 1\n",
    "    return count"
   ]
  },
  {
   "cell_type": "code",
   "execution_count": 39,
   "metadata": {},
   "outputs": [],
   "source": [
    "def merge_sort_counter(A, p, r):\n",
    "    if p < r:\n",
    "        q = (p + r) // 2\n",
    "        count1 = merge_sort_counter(A, p, q)\n",
    "        count2 = merge_sort_counter(A, q + 1, r)\n",
    "        count3 = merge(A, p, q, r)\n",
    "        return count1 + count2 + count3\n",
    "    return 0"
   ]
  },
  {
   "cell_type": "code",
   "execution_count": 40,
   "metadata": {},
   "outputs": [
    {
     "data": {
      "text/plain": [
       "13"
      ]
     },
     "execution_count": 40,
     "metadata": {},
     "output_type": "execute_result"
    }
   ],
   "source": [
    "a = [6,5,3,1,8,7,2,4]\n",
    "merge_sort_counter(a, 0, 7)"
   ]
  },
  {
   "cell_type": "code",
   "execution_count": null,
   "metadata": {},
   "outputs": [],
   "source": []
  }
 ],
 "metadata": {
  "kernelspec": {
   "display_name": "Python 3",
   "language": "python",
   "name": "python3"
  },
  "language_info": {
   "codemirror_mode": {
    "name": "ipython",
    "version": 3
   },
   "file_extension": ".py",
   "mimetype": "text/x-python",
   "name": "python",
   "nbconvert_exporter": "python",
   "pygments_lexer": "ipython3",
   "version": "3.6.1"
  }
 },
 "nbformat": 4,
 "nbformat_minor": 2
}
